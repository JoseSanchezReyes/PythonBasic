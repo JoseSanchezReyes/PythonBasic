{
 "cells": [
  {
   "cell_type": "markdown",
   "metadata": {},
   "source": [
    "#### Mostrar la Fecha de hoy"
   ]
  },
  {
   "cell_type": "code",
   "execution_count": 4,
   "metadata": {},
   "outputs": [
    {
     "name": "stdout",
     "output_type": "stream",
     "text": [
      "Today´s date is:  2022-02-10\n",
      "Hoy es: 2022-02-10\n"
     ]
    }
   ],
   "source": [
    "#Mostrar la fecha de hoy\n",
    "from datetime import date\n",
    "\n",
    "print(\"Today´s date is: \", date.today())\n",
    "print(\"Hoy es: \" + str(date.today()))"
   ]
  },
  {
   "cell_type": "markdown",
   "metadata": {},
   "source": [
    "#### Construir convertidor de Unidades"
   ]
  },
  {
   "cell_type": "code",
   "execution_count": 12,
   "metadata": {},
   "outputs": [
    {
     "name": "stdout",
     "output_type": "stream",
     "text": [
      "2 : parsec, equivalen a:  6.52312  años luz\n"
     ]
    }
   ],
   "source": [
    "# 1 parsec = 3.26156 años luz\n",
    "parsec  = input(\"Ingresa la cantidad de parsec a convertir\")\n",
    "lightyears = 3.26156 * int(parsec)\n",
    "if( parsec != \"\" ):\n",
    "    print(parsec, \": parsec, equivalen a: \", lightyears, \" años luz\")\n",
    "else:\n",
    "    print(\"Por favor intenta de nuevo\")"
   ]
  }
 ],
 "metadata": {
  "interpreter": {
   "hash": "6a2cf6deb8d25baae544a03ba847554ebf6c118e503a2d74b3aa78c6d9b2427c"
  },
  "kernelspec": {
   "display_name": "Python 3.10.2 64-bit",
   "language": "python",
   "name": "python3"
  },
  "language_info": {
   "codemirror_mode": {
    "name": "ipython",
    "version": 3
   },
   "file_extension": ".py",
   "mimetype": "text/x-python",
   "name": "python",
   "nbconvert_exporter": "python",
   "pygments_lexer": "ipython3",
   "version": "3.10.2"
  },
  "orig_nbformat": 4
 },
 "nbformat": 4,
 "nbformat_minor": 2
}
