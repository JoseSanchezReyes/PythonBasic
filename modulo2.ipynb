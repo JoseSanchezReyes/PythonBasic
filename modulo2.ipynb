{
 "cells": [
  {
   "cell_type": "code",
   "execution_count": 1,
   "metadata": {},
   "outputs": [
    {
     "name": "stdout",
     "output_type": "stream",
     "text": [
      "2022-02-14 19:59:41.693462\n",
      "2022-03-21 10:59:41.693462\n"
     ]
    }
   ],
   "source": [
    "# Creando en entorno virtual\n",
    "#cd Desktop/CursoPython\n",
    "#py -m venv env\n",
    "\n",
    "# Activando el entornno virtual\n",
    "#env\\Scripts\\activate\n",
    "\n",
    "#Instalacion del paquete\n",
    "#py -m pip install python-dateutil\n",
    "\n",
    "#Desinstalar un paquete\n",
    "#py -m pip uninstall python-dateutil\n",
    "\n",
    "#Actualizar un paquete\n",
    "#py -m pip install --upgrade python-dateutil\n",
    "#Otra opcion es ingresando la version en particular que necesitemos\n",
    "#py -m pip install --upgrade python-dateutil = \"2.8.2\"\n",
    "\n",
    "#Ver paquetes instalados en entorno virtual\n",
    "#py -m pip freeze\n",
    "\n",
    "#Ver paquetes instalados por pip install\n",
    "#py -m pip list\n",
    "\n",
    "#Info del un paquete en particular\n",
    "# py -m pip show python-dateutil\n",
    "\n",
    "#Salir del entrono virtual\n",
    "#deactivate\n",
    "\n",
    "\n",
    "#USAR PAQUETE INSTALADO\n",
    "from datetime import *\n",
    "from dateutil.relativedelta import *\n",
    "now = datetime.now()\n",
    "print(now)\n",
    "\n",
    "now = now + relativedelta(months=1, weeks=1, hour=10)\n",
    "\n",
    "print(now)\n"
   ]
  }
 ],
 "metadata": {
  "interpreter": {
   "hash": "6a2cf6deb8d25baae544a03ba847554ebf6c118e503a2d74b3aa78c6d9b2427c"
  },
  "kernelspec": {
   "display_name": "Python 3.10.2 64-bit",
   "language": "python",
   "name": "python3"
  },
  "language_info": {
   "codemirror_mode": {
    "name": "ipython",
    "version": 3
   },
   "file_extension": ".py",
   "mimetype": "text/x-python",
   "name": "python",
   "nbconvert_exporter": "python",
   "pygments_lexer": "ipython3",
   "version": "3.10.2"
  },
  "orig_nbformat": 4
 },
 "nbformat": 4,
 "nbformat_minor": 2
}
